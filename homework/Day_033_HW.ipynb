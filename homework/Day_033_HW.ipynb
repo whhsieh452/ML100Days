{
 "cells": [
  {
   "cell_type": "markdown",
   "metadata": {},
   "source": [
    "## 練習時間"
   ]
  },
  {
   "cell_type": "markdown",
   "metadata": {},
   "source": [
    "請觀看李宏毅教授以神奇寶貝進化 CP 值預測的範例，解說何謂機器學習與過擬合。並回答以下問題"
   ]
  },
  {
   "cell_type": "markdown",
   "metadata": {},
   "source": [
    "[youtube](https://www.youtube.com/watch?v=fegAeph9UaA)"
   ]
  },
  {
   "cell_type": "markdown",
   "metadata": {},
   "source": [
    "### 1. 模型的泛化能力 (generalization) 是指什麼？ \n",
    "### 2. 分類問題與回歸問題分別可用的目標函數有哪些？"
   ]
  },
  {
   "cell_type": "code",
   "execution_count": null,
   "metadata": {},
   "outputs": [],
   "source": [
    "最佳化（optimization） 的目的是找到最小化訓練集損失的最佳參數。\n",
    "泛化（generalization） 則是說明了模型對看不見的數據的行為。\n",
    "\n",
    "generalization讓model也能適應新的、看過的data，讓新的data跟訓練model的data有一致的distribution，\n",
    "餵進model的預測應該也差不多。\n",
    "\n",
    "好的generalization應該符合下面三個假設:\n",
    "1.independently and identically (i.i.d) at random: 隨便選資料，資料不會互相影響，而且有同個distribution\n",
    "2.分布是靜止的: 同個資料set內的分布不會改變\n",
    "3.每個partition的example都有相同的distribution\n",
    "\n",
    "# ref\n",
    "# https://ithelp.ithome.com.tw/articles/10200585"
   ]
  },
  {
   "attachments": {},
   "cell_type": "markdown",
   "metadata": {},
   "source": [
    "迴歸常用的損失函數: 均方誤差(Mean square error，MSE)和平均絕對值誤差(Mean absolute error，MAE)\n",
    "MAE對outlier比較有用，但因為微分不連續，因此可能在執行時容易出錯，\n",
    "MSE對outlier較敏感，但在求解時，比較容易找到穩定的解。\n",
    "\n",
    "分類問題常用的損失函數: 交叉熵(cross-entropy)，cross-entropy越小，代表模型越好\n"
   ]
  }
 ],
 "metadata": {
  "kernelspec": {
   "display_name": "Python 3",
   "language": "python",
   "name": "python3"
  },
  "language_info": {
   "codemirror_mode": {
    "name": "ipython",
    "version": 3
   },
   "file_extension": ".py",
   "mimetype": "text/x-python",
   "name": "python",
   "nbconvert_exporter": "python",
   "pygments_lexer": "ipython3",
   "version": "3.7.1"
  },
  "toc": {
   "base_numbering": 1,
   "nav_menu": {},
   "number_sections": true,
   "sideBar": true,
   "skip_h1_title": false,
   "title_cell": "Table of Contents",
   "title_sidebar": "Contents",
   "toc_cell": false,
   "toc_position": {},
   "toc_section_display": true,
   "toc_window_display": false
  }
 },
 "nbformat": 4,
 "nbformat_minor": 2
}
