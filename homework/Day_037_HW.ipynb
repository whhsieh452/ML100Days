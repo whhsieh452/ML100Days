{
 "cells": [
  {
   "cell_type": "markdown",
   "metadata": {},
   "source": [
    "## [作業重點]\n",
    "了解線性回歸的模型發展歷程，並了解優勢與劣勢，以及其使用情境"
   ]
  },
  {
   "cell_type": "markdown",
   "metadata": {},
   "source": [
    "## 作業"
   ]
  },
  {
   "cell_type": "markdown",
   "metadata": {},
   "source": [
    "請閱讀以下相關文獻，並回答以下問題\n",
    "\n",
    "[Linear Regression 詳細介紹](https://brohrer.mcknote.com/zh-Hant/how_machine_learning_works/how_linear_regression_works.html)\n",
    "\n",
    "[Logistics Regression 詳細介紹](https://medium.com/@yehjames/%E8%B3%87%E6%96%99%E5%88%86%E6%9E%90-%E6%A9%9F%E5%99%A8%E5%AD%B8%E7%BF%92-%E7%AC%AC3-3%E8%AC%9B-%E7%B7%9A%E6%80%A7%E5%88%86%E9%A1%9E-%E9%82%8F%E8%BC%AF%E6%96%AF%E5%9B%9E%E6%AD%B8-logistic-regression-%E4%BB%8B%E7%B4%B9-a1a5f47017e5)\n"
   ]
  },
  {
   "cell_type": "markdown",
   "metadata": {},
   "source": [
    "1. 線性回歸模型能夠準確預測非線性關係的資料集嗎?\n",
    "2. 回歸模型是否對資料分布有基本假設?\n"
   ]
  },
  {
   "cell_type": "code",
   "execution_count": null,
   "metadata": {},
   "outputs": [],
   "source": [
    "線性回歸的優點非常直接 ：\n",
    "\n",
    "i.模型建立速度快。因為它並不包含複雜的演算法過程，\n",
    "所以就算我們有龐大的資料量，線性回歸也能夠很快的擬合出最佳參數；\n",
    "\n",
    "ii. 可解釋性高。我們可以明確的指出線性回歸裡面包含的引數，\n",
    "以及通過參數的大小解釋不同引數和因變數之間的線性關係。這是很多複雜模型所無法做到的。\n",
    "\n",
    "然而線性回歸的缺點更加直接：它只適用於分析引數和因變數之間的線性關係。\n",
    "所以它不適用於非線性關係之間的解析，且它僅適合處理因變數是連續型/數值型變數的資料 。\n",
    "\n",
    "# https://altair6662.pixnet.net/blog/post/324113350"
   ]
  },
  {
   "cell_type": "code",
   "execution_count": null,
   "metadata": {},
   "outputs": [],
   "source": [
    "\n",
    "線性回歸假設引數和因變數之間存在線性關係，但這個假設並不總是成立的，所以我們需要擴展至非線性模型。\n",
    "Logistic回歸採取的方法是用非線性的對數函數，\n",
    "而多項式回歸則是把一次特徵轉換成高次特徵的線性組合多項式。\n",
    "\n",
    "# https://www.finereport.com/tw/data-analysis/7-huigui-ff.html"
   ]
  }
 ],
 "metadata": {
  "kernelspec": {
   "display_name": "Python 3",
   "language": "python",
   "name": "python3"
  },
  "language_info": {
   "codemirror_mode": {
    "name": "ipython",
    "version": 3
   },
   "file_extension": ".py",
   "mimetype": "text/x-python",
   "name": "python",
   "nbconvert_exporter": "python",
   "pygments_lexer": "ipython3",
   "version": "3.7.1"
  },
  "toc": {
   "base_numbering": 1,
   "nav_menu": {},
   "number_sections": true,
   "sideBar": true,
   "skip_h1_title": false,
   "title_cell": "Table of Contents",
   "title_sidebar": "Contents",
   "toc_cell": false,
   "toc_position": {},
   "toc_section_display": true,
   "toc_window_display": false
  }
 },
 "nbformat": 4,
 "nbformat_minor": 2
}
