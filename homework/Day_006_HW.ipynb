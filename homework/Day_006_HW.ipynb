{
 "cells": [
  {
   "cell_type": "markdown",
   "metadata": {},
   "source": [
    "# [作業目標]\n",
    "- 仿造範例的 One Hot Encoding, 將指定的資料進行編碼"
   ]
  },
  {
   "cell_type": "markdown",
   "metadata": {},
   "source": [
    "# [作業重點]\n",
    "- 將 sub_train 進行 One Hot Encoding 編碼 (In[4], Out[4])"
   ]
  },
  {
   "cell_type": "code",
   "execution_count": 1,
   "metadata": {
    "ExecuteTime": {
     "end_time": "2020-06-24T13:22:36.417055Z",
     "start_time": "2020-06-24T13:22:35.207691Z"
    },
    "colab": {},
    "colab_type": "code",
    "id": "lh9gyloHVblR"
   },
   "outputs": [],
   "source": [
    "import os\n",
    "import numpy as np\n",
    "import pandas as pd"
   ]
  },
  {
   "cell_type": "code",
   "execution_count": 3,
   "metadata": {
    "ExecuteTime": {
     "end_time": "2020-06-24T13:30:10.650624Z",
     "start_time": "2020-06-24T13:29:53.036530Z"
    },
    "colab": {},
    "colab_type": "code",
    "id": "z4iLB9cKVblV"
   },
   "outputs": [],
   "source": [
    "# 設定 data_path, 並讀取 app_train\n",
    "dir_data = './data/'\n",
    "f_app_train = os.path.join(dir_data, 'application_train.csv')\n",
    "app_train = pd.read_csv(f_app_train)"
   ]
  },
  {
   "cell_type": "markdown",
   "metadata": {
    "colab": {},
    "colab_type": "code",
    "collapsed": true,
    "id": "d5IeEcPVVblq"
   },
   "source": [
    "## 作業\n",
    "將下列部分資料片段 sub_train 使用 One Hot encoding, 並觀察轉換前後的欄位數量 (使用 shape) 與欄位名稱 (使用 head) 變化"
   ]
  },
  {
   "cell_type": "code",
   "execution_count": 4,
   "metadata": {
    "ExecuteTime": {
     "end_time": "2020-06-24T13:30:16.978225Z",
     "start_time": "2020-06-24T13:30:16.946344Z"
    }
   },
   "outputs": [
    {
     "name": "stdout",
     "output_type": "stream",
     "text": [
      "(307511, 1)\n"
     ]
    },
    {
     "data": {
      "text/html": [
       "<div>\n",
       "<style scoped>\n",
       "    .dataframe tbody tr th:only-of-type {\n",
       "        vertical-align: middle;\n",
       "    }\n",
       "\n",
       "    .dataframe tbody tr th {\n",
       "        vertical-align: top;\n",
       "    }\n",
       "\n",
       "    .dataframe thead th {\n",
       "        text-align: right;\n",
       "    }\n",
       "</style>\n",
       "<table border=\"1\" class=\"dataframe\">\n",
       "  <thead>\n",
       "    <tr style=\"text-align: right;\">\n",
       "      <th></th>\n",
       "      <th>WEEKDAY_APPR_PROCESS_START</th>\n",
       "    </tr>\n",
       "  </thead>\n",
       "  <tbody>\n",
       "    <tr>\n",
       "      <th>0</th>\n",
       "      <td>WEDNESDAY</td>\n",
       "    </tr>\n",
       "    <tr>\n",
       "      <th>1</th>\n",
       "      <td>MONDAY</td>\n",
       "    </tr>\n",
       "    <tr>\n",
       "      <th>2</th>\n",
       "      <td>MONDAY</td>\n",
       "    </tr>\n",
       "    <tr>\n",
       "      <th>3</th>\n",
       "      <td>WEDNESDAY</td>\n",
       "    </tr>\n",
       "    <tr>\n",
       "      <th>4</th>\n",
       "      <td>THURSDAY</td>\n",
       "    </tr>\n",
       "  </tbody>\n",
       "</table>\n",
       "</div>"
      ],
      "text/plain": [
       "  WEEKDAY_APPR_PROCESS_START\n",
       "0                  WEDNESDAY\n",
       "1                     MONDAY\n",
       "2                     MONDAY\n",
       "3                  WEDNESDAY\n",
       "4                   THURSDAY"
      ]
     },
     "execution_count": 4,
     "metadata": {},
     "output_type": "execute_result"
    }
   ],
   "source": [
    "sub_train = pd.DataFrame(app_train['WEEKDAY_APPR_PROCESS_START'])\n",
    "print(sub_train.shape)\n",
    "sub_train.head()"
   ]
  },
  {
   "cell_type": "code",
   "execution_count": 6,
   "metadata": {
    "ExecuteTime": {
     "end_time": "2020-06-24T13:33:07.909124Z",
     "start_time": "2020-06-24T13:33:07.851281Z"
    }
   },
   "outputs": [
    {
     "name": "stdout",
     "output_type": "stream",
     "text": [
      "(307511, 7)\n",
      "   WEEKDAY_APPR_PROCESS_START_FRIDAY  WEEKDAY_APPR_PROCESS_START_MONDAY  \\\n",
      "0                                  0                                  0   \n",
      "1                                  0                                  1   \n",
      "2                                  0                                  1   \n",
      "3                                  0                                  0   \n",
      "4                                  0                                  0   \n",
      "\n",
      "   WEEKDAY_APPR_PROCESS_START_SATURDAY  WEEKDAY_APPR_PROCESS_START_SUNDAY  \\\n",
      "0                                    0                                  0   \n",
      "1                                    0                                  0   \n",
      "2                                    0                                  0   \n",
      "3                                    0                                  0   \n",
      "4                                    0                                  0   \n",
      "\n",
      "   WEEKDAY_APPR_PROCESS_START_THURSDAY  WEEKDAY_APPR_PROCESS_START_TUESDAY  \\\n",
      "0                                    0                                   0   \n",
      "1                                    0                                   0   \n",
      "2                                    0                                   0   \n",
      "3                                    0                                   0   \n",
      "4                                    1                                   0   \n",
      "\n",
      "   WEEKDAY_APPR_PROCESS_START_WEDNESDAY  \n",
      "0                                     1  \n",
      "1                                     0  \n",
      "2                                     0  \n",
      "3                                     1  \n",
      "4                                     0  \n",
      "______________\n",
      "0    0\n",
      "1    0\n",
      "2    0\n",
      "3    0\n",
      "4    0\n",
      "Name: WEEKDAY_APPR_PROCESS_START_FRIDAY, dtype: uint8\n",
      "0    0\n",
      "1    1\n",
      "2    1\n",
      "3    0\n",
      "4    0\n",
      "Name: WEEKDAY_APPR_PROCESS_START_MONDAY, dtype: uint8\n",
      "0    0\n",
      "1    0\n",
      "2    0\n",
      "3    0\n",
      "4    0\n",
      "Name: WEEKDAY_APPR_PROCESS_START_SATURDAY, dtype: uint8\n",
      "0    0\n",
      "1    0\n",
      "2    0\n",
      "3    0\n",
      "4    0\n",
      "Name: WEEKDAY_APPR_PROCESS_START_SUNDAY, dtype: uint8\n",
      "0    0\n",
      "1    0\n",
      "2    0\n",
      "3    0\n",
      "4    1\n",
      "Name: WEEKDAY_APPR_PROCESS_START_THURSDAY, dtype: uint8\n",
      "0    0\n",
      "1    0\n",
      "2    0\n",
      "3    0\n",
      "4    0\n",
      "Name: WEEKDAY_APPR_PROCESS_START_TUESDAY, dtype: uint8\n",
      "0    1\n",
      "1    0\n",
      "2    0\n",
      "3    1\n",
      "4    0\n",
      "Name: WEEKDAY_APPR_PROCESS_START_WEDNESDAY, dtype: uint8\n"
     ]
    }
   ],
   "source": [
    "aa = pd.get_dummies(sub_train)\n",
    "print(aa.shape)\n",
    "print(aa.head())\n",
    "print(\"______________\")\n",
    "print(aa.WEEKDAY_APPR_PROCESS_START_FRIDAY.head())\n",
    "print(aa.WEEKDAY_APPR_PROCESS_START_MONDAY.head())\n",
    "print(aa.WEEKDAY_APPR_PROCESS_START_SATURDAY.head())\n",
    "print(aa.WEEKDAY_APPR_PROCESS_START_SUNDAY.head())\n",
    "print(aa.WEEKDAY_APPR_PROCESS_START_THURSDAY.head())\n",
    "print(aa.WEEKDAY_APPR_PROCESS_START_TUESDAY.head())\n",
    "print(aa.WEEKDAY_APPR_PROCESS_START_WEDNESDAY.head())"
   ]
  },
  {
   "cell_type": "code",
   "execution_count": 36,
   "metadata": {
    "ExecuteTime": {
     "end_time": "2020-06-24T14:10:33.035596Z",
     "start_time": "2020-06-24T14:10:32.886992Z"
    }
   },
   "outputs": [
    {
     "name": "stdout",
     "output_type": "stream",
     "text": [
      "          0    1    2    3    4    5    6\n",
      "0       0.0  0.0  0.0  0.0  0.0  0.0  1.0\n",
      "1       0.0  1.0  0.0  0.0  0.0  0.0  0.0\n",
      "2       0.0  1.0  0.0  0.0  0.0  0.0  0.0\n",
      "3       0.0  0.0  0.0  0.0  0.0  0.0  1.0\n",
      "4       0.0  0.0  0.0  0.0  1.0  0.0  0.0\n",
      "5       0.0  0.0  0.0  0.0  0.0  0.0  1.0\n",
      "6       0.0  0.0  0.0  1.0  0.0  0.0  0.0\n",
      "7       0.0  1.0  0.0  0.0  0.0  0.0  0.0\n",
      "8       0.0  0.0  0.0  0.0  0.0  0.0  1.0\n",
      "9       0.0  0.0  0.0  0.0  1.0  0.0  0.0\n",
      "10      0.0  0.0  1.0  0.0  0.0  0.0  0.0\n",
      "11      1.0  0.0  0.0  0.0  0.0  0.0  0.0\n",
      "12      1.0  0.0  0.0  0.0  0.0  0.0  0.0\n",
      "13      0.0  0.0  0.0  0.0  1.0  0.0  0.0\n",
      "14      0.0  1.0  0.0  0.0  0.0  0.0  0.0\n",
      "15      0.0  0.0  1.0  0.0  0.0  0.0  0.0\n",
      "16      0.0  0.0  0.0  0.0  1.0  0.0  0.0\n",
      "17      0.0  1.0  0.0  0.0  0.0  0.0  0.0\n",
      "18      1.0  0.0  0.0  0.0  0.0  0.0  0.0\n",
      "19      0.0  1.0  0.0  0.0  0.0  0.0  0.0\n",
      "20      1.0  0.0  0.0  0.0  0.0  0.0  0.0\n",
      "21      0.0  1.0  0.0  0.0  0.0  0.0  0.0\n",
      "22      0.0  0.0  0.0  0.0  1.0  0.0  0.0\n",
      "23      1.0  0.0  0.0  0.0  0.0  0.0  0.0\n",
      "24      0.0  0.0  0.0  0.0  1.0  0.0  0.0\n",
      "25      0.0  0.0  1.0  0.0  0.0  0.0  0.0\n",
      "26      0.0  1.0  0.0  0.0  0.0  0.0  0.0\n",
      "27      0.0  0.0  1.0  0.0  0.0  0.0  0.0\n",
      "28      0.0  0.0  0.0  0.0  0.0  0.0  1.0\n",
      "29      0.0  0.0  0.0  0.0  0.0  1.0  0.0\n",
      "...     ...  ...  ...  ...  ...  ...  ...\n",
      "307481  1.0  0.0  0.0  0.0  0.0  0.0  0.0\n",
      "307482  0.0  0.0  0.0  0.0  1.0  0.0  0.0\n",
      "307483  0.0  1.0  0.0  0.0  0.0  0.0  0.0\n",
      "307484  0.0  1.0  0.0  0.0  0.0  0.0  0.0\n",
      "307485  0.0  0.0  1.0  0.0  0.0  0.0  0.0\n",
      "307486  0.0  0.0  1.0  0.0  0.0  0.0  0.0\n",
      "307487  0.0  0.0  0.0  0.0  0.0  0.0  1.0\n",
      "307488  0.0  0.0  0.0  0.0  0.0  0.0  1.0\n",
      "307489  1.0  0.0  0.0  0.0  0.0  0.0  0.0\n",
      "307490  0.0  0.0  1.0  0.0  0.0  0.0  0.0\n",
      "307491  0.0  0.0  1.0  0.0  0.0  0.0  0.0\n",
      "307492  1.0  0.0  0.0  0.0  0.0  0.0  0.0\n",
      "307493  0.0  1.0  0.0  0.0  0.0  0.0  0.0\n",
      "307494  0.0  1.0  0.0  0.0  0.0  0.0  0.0\n",
      "307495  0.0  0.0  0.0  0.0  0.0  0.0  1.0\n",
      "307496  0.0  0.0  0.0  0.0  1.0  0.0  0.0\n",
      "307497  0.0  0.0  0.0  0.0  1.0  0.0  0.0\n",
      "307498  0.0  1.0  0.0  0.0  0.0  0.0  0.0\n",
      "307499  0.0  0.0  0.0  0.0  0.0  1.0  0.0\n",
      "307500  1.0  0.0  0.0  0.0  0.0  0.0  0.0\n",
      "307501  0.0  0.0  0.0  0.0  0.0  0.0  1.0\n",
      "307502  0.0  1.0  0.0  0.0  0.0  0.0  0.0\n",
      "307503  0.0  0.0  1.0  0.0  0.0  0.0  0.0\n",
      "307504  0.0  0.0  0.0  0.0  0.0  0.0  1.0\n",
      "307505  0.0  1.0  0.0  0.0  0.0  0.0  0.0\n",
      "307506  0.0  0.0  0.0  0.0  1.0  0.0  0.0\n",
      "307507  0.0  1.0  0.0  0.0  0.0  0.0  0.0\n",
      "307508  0.0  0.0  0.0  0.0  1.0  0.0  0.0\n",
      "307509  0.0  0.0  0.0  0.0  0.0  0.0  1.0\n",
      "307510  0.0  0.0  0.0  0.0  1.0  0.0  0.0\n",
      "\n",
      "[307511 rows x 7 columns]\n"
     ]
    },
    {
     "name": "stderr",
     "output_type": "stream",
     "text": [
      "C:\\Users\\Wan-Hsing\\Anaconda3\\lib\\site-packages\\sklearn\\preprocessing\\label.py:235: DataConversionWarning: A column-vector y was passed when a 1d array was expected. Please change the shape of y to (n_samples, ), for example using ravel().\n",
      "  y = column_or_1d(y, warn=True)\n",
      "C:\\Users\\Wan-Hsing\\Anaconda3\\lib\\site-packages\\sklearn\\preprocessing\\_encoders.py:368: FutureWarning: The handling of integer data will change in version 0.22. Currently, the categories are determined based on the range [0, max(values)], while in the future they will be determined based on the unique values.\n",
      "If you want the future behaviour and silence this warning, you can specify \"categories='auto'\".\n",
      "In case you used a LabelEncoder before this OneHotEncoder to convert the categories to integers, then you can now use the OneHotEncoder directly.\n",
      "  warnings.warn(msg, FutureWarning)\n",
      "C:\\Users\\Wan-Hsing\\Anaconda3\\lib\\site-packages\\sklearn\\preprocessing\\_encoders.py:390: DeprecationWarning: The 'categorical_features' keyword is deprecated in version 0.20 and will be removed in 0.22. You can use the ColumnTransformer instead.\n",
      "  \"use the ColumnTransformer instead.\", DeprecationWarning)\n"
     ]
    }
   ],
   "source": [
    "from sklearn.preprocessing import OneHotEncoder\n",
    "from sklearn.preprocessing import LabelEncoder\n",
    "\n",
    "labelencoder = LabelEncoder()\n",
    "data_le=pd.DataFrame(sub_train)\n",
    "\n",
    "data_le_2 = labelencoder.fit_transform(data_le)\n",
    "pd.DataFrame(data_le_2)\n",
    "\n",
    "onehotencoder = OneHotEncoder(categorical_features = [0])\n",
    "x = onehotencoder.fit_transform(data_le_2[:, None]).toarray()\n",
    "print(pd.DataFrame(x))"
   ]
  },
  {
   "cell_type": "code",
   "execution_count": null,
   "metadata": {},
   "outputs": [],
   "source": []
  }
 ],
 "metadata": {
  "colab": {
   "name": "Day_004_column_data_type.ipynb",
   "provenance": [],
   "version": "0.3.2"
  },
  "kernelspec": {
   "display_name": "Python 3",
   "language": "python",
   "name": "python3"
  },
  "language_info": {
   "codemirror_mode": {
    "name": "ipython",
    "version": 3
   },
   "file_extension": ".py",
   "mimetype": "text/x-python",
   "name": "python",
   "nbconvert_exporter": "python",
   "pygments_lexer": "ipython3",
   "version": "3.7.1"
  },
  "toc": {
   "base_numbering": 1,
   "nav_menu": {},
   "number_sections": true,
   "sideBar": true,
   "skip_h1_title": false,
   "title_cell": "Table of Contents",
   "title_sidebar": "Contents",
   "toc_cell": false,
   "toc_position": {},
   "toc_section_display": true,
   "toc_window_display": false
  }
 },
 "nbformat": 4,
 "nbformat_minor": 1
}
